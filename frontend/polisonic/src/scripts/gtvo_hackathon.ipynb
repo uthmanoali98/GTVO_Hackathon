{
 "cells": [
  {
   "cell_type": "code",
   "execution_count": null,
   "metadata": {},
   "outputs": [],
   "source": [
    "pip install newspaper3k gtts\n"
   ]
  },
  {
   "cell_type": "code",
   "execution_count": null,
   "metadata": {},
   "outputs": [],
   "source": [
    "pip install --upgrade openai"
   ]
  },
  {
   "cell_type": "code",
   "execution_count": null,
   "metadata": {},
   "outputs": [
    {
     "name": "stdout",
     "output_type": "stream",
     "text": [
      "\n",
      "Article Title: New Jersey Should Rethink Its Nuclear Power Ban\n",
      "\n",
      "Political Bias: ChatCompletionMessage(content='Neutral', refusal=None, role='assistant', audio=None, function_call=None, tool_calls=None)\n",
      "\n",
      "Gen Z Summary:\n",
      "The state of New Jersey plans to ramp up offshore wind power but faces challenges due to many projects financially struggling and others physically deteriorating. To address its power needs, New Jersey must reconsider its energy sources. By lifting the ban on new nuclear power, the state can access a highly efficient and reliable power option.\n",
      "\n",
      "Despite concerns about nuclear waste storage, current on-site practices have been safe for decades. Nuclear power boasts an impressive capacity factor of 92.5%, outperforming wind, natural gas, and coal. New Jersey's existing Salem and Hope Creek Nuclear Generating Stations are safe and provide power to millions of homes.\n",
      "\n",
      "With the increasing demand for power from data centers, New Jersey's goal of 100% clean energy by 2050 may benefit from nuclear power's reliability and lack of carbon emissions. However, the state is currently among the 12 states with restrictions on new nuclear power plants, limiting its ability to adapt to changing energy demands.\n",
      "\n",
      "As young adults, imagine being part of a team responsible for advising your state on its energy policy. How would you weigh the benefits and risks of expanding nuclear power versus other renewable options, considering factors like reliability, environmental impact, and long-term sustainability? How might you advocate for a diverse energy mix that balances current needs with future growth while staying mindful of environmental concerns?\n",
      "\n",
      "Audio summary saved as summary.mp3\n"
     ]
    },
    {
     "name": "stderr",
     "output_type": "stream",
     "text": [
      "/var/folders/f1/vcc52pv15lz1xrwzg4bzd4rm0000gn/T/ipykernel_63178/1669090320.py:64: DeprecationWarning: Due to a bug, this method doesn't actually stream the response content, `.with_streaming_response.method()` should be used instead\n",
      "  response.stream_to_file(speech_file_path)\n"
     ]
    }
   ],
   "source": [
    "from pathlib import Path\n",
    "from openai import OpenAI\n",
    "from newspaper import Article\n",
    "import os\n",
    "\n",
    "# OpenAI API Initialization\n",
    "client = OpenAI(\n",
    ")\n",
    "\n",
    "def fetch_article_content(url):\n",
    "    \"\"\"Fetch article content from a URL.\"\"\"\n",
    "    article = Article(url)\n",
    "    article.download()\n",
    "    article.parse()\n",
    "    return article.title, article.text\n",
    "\n",
    "def determine_political_bias(content):\n",
    "    \"\"\"Use OpenAI API to determine if the article leans left, right, or neutral.\"\"\"\n",
    "    prompt = (\n",
    "        \"Analyze the following text and determine if it leans politically to the left, right, or is neutral: \\n\\n\"\n",
    "        f\"{content}\\n\\n\"\n",
    "        \"Respond with only one word: Left, Right, or Neutral.\"\n",
    "    )\n",
    "    response = client.chat.completions.create(\n",
    "        model=\"gpt-3.5-turbo\",\n",
    "        messages=[\n",
    "            {\"role\": \"system\", \"content\": \"You are a helpful assistant that determines political biases.\"},\n",
    "            {\"role\": \"user\", \"content\": prompt}\n",
    "        ]\n",
    "    )\n",
    "    return response.choices[0].message\n",
    "\n",
    "def summarize_article_for_gen_z(content):\n",
    "    \"\"\"Use OpenAI API to summarize the article in a Gen Z-friendly tone.\"\"\"\n",
    "    prompt = (\n",
    "        \"Summarize the following article for an audience aged 17-25 in a way that is clear, informative, and relevant. \"\n",
    "        \"Keep the tone engaging and conversational but not overly casual. End the summary with critical thinking questions \"\n",
    "        \"or a relatable scenario that connects the article's themes to the everyday lives of young people, especially as they \"\n",
    "        \"navigate issues like civic engagement, decision-making, or staying informed:\\n\\n\"\n",
    "        f\"{content}\\n\\n\"\n",
    "    )\n",
    "    response = client.chat.completions.create(\n",
    "        model=\"gpt-3.5-turbo\",\n",
    "        audio={\"voice\": \"alloy\", \"format\": \"wav\"},\n",
    "        messages=[\n",
    "            {\"role\": \"system\", \"content\": \"You are a helpful assistant that summarizes text for a Gen Z audience.\"},\n",
    "            {\"role\": \"user\", \"content\": prompt}\n",
    "        ]\n",
    "    )\n",
    "    return response.choices[0].message.content.strip()\n",
    "\n",
    "def generate_audio_summary(text, filename=\"summary.mp3\"):\n",
    "    \n",
    "    speech_file_path = \"speech.mp3\"\n",
    "    \"\"\"Convert text to speech using OpenAI's TTS API and save as an audio file.\"\"\"\n",
    "    response = client.audio.speech.create(\n",
    "        model=\"tts-1\",  # High-definition TTS model\n",
    "        input=text,\n",
    "        voice=\"alloy\"  # Choose a voice; 'alloy' is a default option\n",
    "    )\n",
    "    \n",
    "    response.stream_to_file(speech_file_path)\n",
    "    print(f\"Audio summary saved as {filename}\")\n",
    "    \n",
    "def main():\n",
    "    # Input: Article URL\n",
    "    article_url = input(\"Enter the article URL: \")\n",
    "\n",
    "    try:\n",
    "        # Step 1: Fetch article content\n",
    "        title, content = fetch_article_content(article_url)\n",
    "        print(f\"\\nArticle Title: {title}\\n\")\n",
    "\n",
    "        # Step 2: Determine political bias\n",
    "        bias = determine_political_bias(content)\n",
    "        print(f\"Political Bias: {bias}\\n\")\n",
    "\n",
    "        # Step 3: Summarize for Gen Z\n",
    "        summary = summarize_article_for_gen_z(content)\n",
    "        print(f\"Gen Z Summary:\\n{summary}\\n\")\n",
    "\n",
    "        # Step 4: Generate audio summary\n",
    "        generate_audio_summary(summary)\n",
    "\n",
    "    except Exception as e:\n",
    "        print(f\"An error occurred: {e}\")\n",
    "\n",
    "if __name__ == \"__main__\":\n",
    "    main()"
   ]
  }
 ],
 "metadata": {
  "kernelspec": {
   "display_name": "base",
   "language": "python",
   "name": "python3"
  },
  "language_info": {
   "codemirror_mode": {
    "name": "ipython",
    "version": 3
   },
   "file_extension": ".py",
   "mimetype": "text/x-python",
   "name": "python",
   "nbconvert_exporter": "python",
   "pygments_lexer": "ipython3",
   "version": "3.9.12"
  }
 },
 "nbformat": 4,
 "nbformat_minor": 2
}
